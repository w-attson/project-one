{
 "cells": [
  {
   "cell_type": "code",
   "execution_count": 199,
   "id": "9a2aca4e-4551-4659-971e-206d8ff16c0f",
   "metadata": {},
   "outputs": [],
   "source": [
    "import pandas as pd\n",
    "import matplotlib.pyplot as plt\n",
    "from sklearn import linear_model\n",
    "from tabulate import tabulate\n",
    "\n"
   ]
  },
  {
   "cell_type": "code",
   "execution_count": 200,
   "id": "f3c9c889-60e3-4006-8752-d8a116ec1888",
   "metadata": {},
   "outputs": [
    {
     "name": "stderr",
     "output_type": "stream",
     "text": [
      "/var/folders/dq/3170fsj54mj7dvthb0kwkzww0000gn/T/ipykernel_39364/4284295414.py:1: DtypeWarning: Columns (6,9,10,13) have mixed types. Specify dtype option on import or set low_memory=False.\n",
      "  person = pd.read_csv('PERSON.csv')\n",
      "/var/folders/dq/3170fsj54mj7dvthb0kwkzww0000gn/T/ipykernel_39364/4284295414.py:5: DtypeWarning: Columns (10,13) have mixed types. Specify dtype option on import or set low_memory=False.\n",
      "  Deaths = pd.read_csv('ACCIDENT.csv')\n"
     ]
    }
   ],
   "source": [
    "person = pd.read_csv('PERSON.csv')\n",
    "person = person.set_index(['ACCIDENT_NO'])\n",
    "location = pd.read_csv('ACCIDENT_LOCATION.csv')\n",
    "location = location.set_index(['ACCIDENT_NO'])\n",
    "Deaths = pd.read_csv('ACCIDENT.csv')\n",
    "Deaths = Deaths.set_index(['ACCIDENT_NO'])"
   ]
  },
  {
   "cell_type": "code",
   "execution_count": 201,
   "id": "5bcb366a-2e42-4dcc-9283-1cea26c05c27",
   "metadata": {},
   "outputs": [
    {
     "name": "stderr",
     "output_type": "stream",
     "text": [
      "/var/folders/dq/3170fsj54mj7dvthb0kwkzww0000gn/T/ipykernel_39364/2355062295.py:15: FutureWarning: In a future version of pandas all arguments of DataFrame.dropna will be keyword-only.\n",
      "  collated = collated.dropna('LIGHT_CONDITION' == 9)\n"
     ]
    },
    {
     "data": {
      "text/html": [
       "<div>\n",
       "<style scoped>\n",
       "    .dataframe tbody tr th:only-of-type {\n",
       "        vertical-align: middle;\n",
       "    }\n",
       "\n",
       "    .dataframe tbody tr th {\n",
       "        vertical-align: top;\n",
       "    }\n",
       "\n",
       "    .dataframe thead th {\n",
       "        text-align: right;\n",
       "    }\n",
       "</style>\n",
       "<table border=\"1\" class=\"dataframe\">\n",
       "  <thead>\n",
       "    <tr style=\"text-align: right;\">\n",
       "      <th></th>\n",
       "      <th>DISTANCE_LOCATION</th>\n",
       "      <th>AGE</th>\n",
       "      <th>NO_PERSONS_KILLED</th>\n",
       "      <th>NO_PERSONS</th>\n",
       "      <th>SPEED_ZONE</th>\n",
       "      <th>DAY_OF_WEEK</th>\n",
       "      <th>LIGHT_CONDITION</th>\n",
       "    </tr>\n",
       "    <tr>\n",
       "      <th>ACCIDENT_NO</th>\n",
       "      <th></th>\n",
       "      <th></th>\n",
       "      <th></th>\n",
       "      <th></th>\n",
       "      <th></th>\n",
       "      <th></th>\n",
       "      <th></th>\n",
       "    </tr>\n",
       "  </thead>\n",
       "  <tbody>\n",
       "    <tr>\n",
       "      <th>T20060000018</th>\n",
       "      <td>70.0</td>\n",
       "      <td>18.0</td>\n",
       "      <td>0</td>\n",
       "      <td>4</td>\n",
       "      <td>70</td>\n",
       "      <td>6</td>\n",
       "      <td>1</td>\n",
       "    </tr>\n",
       "    <tr>\n",
       "      <th>T20060000022</th>\n",
       "      <td>210.0</td>\n",
       "      <td>50.0</td>\n",
       "      <td>0</td>\n",
       "      <td>2</td>\n",
       "      <td>100</td>\n",
       "      <td>7</td>\n",
       "      <td>1</td>\n",
       "    </tr>\n",
       "    <tr>\n",
       "      <th>T20060000023</th>\n",
       "      <td>0.0</td>\n",
       "      <td>43.0</td>\n",
       "      <td>0</td>\n",
       "      <td>2</td>\n",
       "      <td>80</td>\n",
       "      <td>7</td>\n",
       "      <td>1</td>\n",
       "    </tr>\n",
       "    <tr>\n",
       "      <th>T20060000026</th>\n",
       "      <td>20.0</td>\n",
       "      <td>38.0</td>\n",
       "      <td>0</td>\n",
       "      <td>3</td>\n",
       "      <td>50</td>\n",
       "      <td>7</td>\n",
       "      <td>1</td>\n",
       "    </tr>\n",
       "    <tr>\n",
       "      <th>T20060000028</th>\n",
       "      <td>49.0</td>\n",
       "      <td>85.0</td>\n",
       "      <td>0</td>\n",
       "      <td>2</td>\n",
       "      <td>100</td>\n",
       "      <td>7</td>\n",
       "      <td>1</td>\n",
       "    </tr>\n",
       "    <tr>\n",
       "      <th>...</th>\n",
       "      <td>...</td>\n",
       "      <td>...</td>\n",
       "      <td>...</td>\n",
       "      <td>...</td>\n",
       "      <td>...</td>\n",
       "      <td>...</td>\n",
       "      <td>...</td>\n",
       "    </tr>\n",
       "    <tr>\n",
       "      <th>T20200019239</th>\n",
       "      <td>147.0</td>\n",
       "      <td>31.0</td>\n",
       "      <td>0</td>\n",
       "      <td>4</td>\n",
       "      <td>50</td>\n",
       "      <td>0</td>\n",
       "      <td>1</td>\n",
       "    </tr>\n",
       "    <tr>\n",
       "      <th>T20200019247</th>\n",
       "      <td>413.0</td>\n",
       "      <td>15.0</td>\n",
       "      <td>0</td>\n",
       "      <td>2</td>\n",
       "      <td>999</td>\n",
       "      <td>1</td>\n",
       "      <td>1</td>\n",
       "    </tr>\n",
       "    <tr>\n",
       "      <th>T20200019250</th>\n",
       "      <td>0.0</td>\n",
       "      <td>45.0</td>\n",
       "      <td>0</td>\n",
       "      <td>2</td>\n",
       "      <td>60</td>\n",
       "      <td>0</td>\n",
       "      <td>1</td>\n",
       "    </tr>\n",
       "    <tr>\n",
       "      <th>T20200019253</th>\n",
       "      <td>4531.0</td>\n",
       "      <td>65.0</td>\n",
       "      <td>0</td>\n",
       "      <td>1</td>\n",
       "      <td>80</td>\n",
       "      <td>1</td>\n",
       "      <td>1</td>\n",
       "    </tr>\n",
       "    <tr>\n",
       "      <th>T20200019417</th>\n",
       "      <td>26.0</td>\n",
       "      <td>20.0</td>\n",
       "      <td>0</td>\n",
       "      <td>1</td>\n",
       "      <td>80</td>\n",
       "      <td>3</td>\n",
       "      <td>3</td>\n",
       "    </tr>\n",
       "  </tbody>\n",
       "</table>\n",
       "<p>196847 rows × 7 columns</p>\n",
       "</div>"
      ],
      "text/plain": [
       "              DISTANCE_LOCATION   AGE  NO_PERSONS_KILLED  NO_PERSONS  \\\n",
       "ACCIDENT_NO                                                            \n",
       "T20060000018               70.0  18.0                  0           4   \n",
       "T20060000022              210.0  50.0                  0           2   \n",
       "T20060000023                0.0  43.0                  0           2   \n",
       "T20060000026               20.0  38.0                  0           3   \n",
       "T20060000028               49.0  85.0                  0           2   \n",
       "...                         ...   ...                ...         ...   \n",
       "T20200019239              147.0  31.0                  0           4   \n",
       "T20200019247              413.0  15.0                  0           2   \n",
       "T20200019250                0.0  45.0                  0           2   \n",
       "T20200019253             4531.0  65.0                  0           1   \n",
       "T20200019417               26.0  20.0                  0           1   \n",
       "\n",
       "              SPEED_ZONE  DAY_OF_WEEK  LIGHT_CONDITION  \n",
       "ACCIDENT_NO                                             \n",
       "T20060000018          70            6                1  \n",
       "T20060000022         100            7                1  \n",
       "T20060000023          80            7                1  \n",
       "T20060000026          50            7                1  \n",
       "T20060000028         100            7                1  \n",
       "...                  ...          ...              ...  \n",
       "T20200019239          50            0                1  \n",
       "T20200019247         999            1                1  \n",
       "T20200019250          60            0                1  \n",
       "T20200019253          80            1                1  \n",
       "T20200019417          80            3                3  \n",
       "\n",
       "[196847 rows x 7 columns]"
      ]
     },
     "execution_count": 201,
     "metadata": {},
     "output_type": "execute_result"
    }
   ],
   "source": [
    "\n",
    "#Deaths['Any_fatalities'] = Deaths['NO_PERSONS_KILLED'].apply(lambda x: 1 if x >0 else 0)\n",
    "Deaths_happened = Deaths.loc[:,['NO_PERSONS_KILLED','NO_PERSONS','SPEED_ZONE','DAY_OF_WEEK','LIGHT_CONDITION']]\n",
    "#Deaths_happened['ACCIDENTTIME'] = pd.to_datetime(Deaths_happened['ACCIDENTTIME'].str.strip(), format=\"%H:%M:%S\")\n",
    "\n",
    "\n",
    "\n",
    "accident_location_distance = location['DISTANCE_LOCATION']\n",
    "accident_location_distance = accident_location_distance.dropna()\n",
    "\n",
    "age = person['AGE']\n",
    "df_age = age[~age.index.duplicated(keep='first')]\n",
    "df_age = df_age.dropna()\n",
    "\n",
    "collated = pd.concat([accident_location_distance,df_age,Deaths_happened],join = 'inner',axis = 1)\n",
    "collated = collated.dropna('LIGHT_CONDITION' == 9)\n",
    "collated"
   ]
  },
  {
   "cell_type": "code",
   "execution_count": 202,
   "id": "460706d3-3be3-40ad-9f2e-d7f1fee991f9",
   "metadata": {},
   "outputs": [
    {
     "data": {
      "text/html": [
       "<style>#sk-container-id-6 {color: black;background-color: white;}#sk-container-id-6 pre{padding: 0;}#sk-container-id-6 div.sk-toggleable {background-color: white;}#sk-container-id-6 label.sk-toggleable__label {cursor: pointer;display: block;width: 100%;margin-bottom: 0;padding: 0.3em;box-sizing: border-box;text-align: center;}#sk-container-id-6 label.sk-toggleable__label-arrow:before {content: \"▸\";float: left;margin-right: 0.25em;color: #696969;}#sk-container-id-6 label.sk-toggleable__label-arrow:hover:before {color: black;}#sk-container-id-6 div.sk-estimator:hover label.sk-toggleable__label-arrow:before {color: black;}#sk-container-id-6 div.sk-toggleable__content {max-height: 0;max-width: 0;overflow: hidden;text-align: left;background-color: #f0f8ff;}#sk-container-id-6 div.sk-toggleable__content pre {margin: 0.2em;color: black;border-radius: 0.25em;background-color: #f0f8ff;}#sk-container-id-6 input.sk-toggleable__control:checked~div.sk-toggleable__content {max-height: 200px;max-width: 100%;overflow: auto;}#sk-container-id-6 input.sk-toggleable__control:checked~label.sk-toggleable__label-arrow:before {content: \"▾\";}#sk-container-id-6 div.sk-estimator input.sk-toggleable__control:checked~label.sk-toggleable__label {background-color: #d4ebff;}#sk-container-id-6 div.sk-label input.sk-toggleable__control:checked~label.sk-toggleable__label {background-color: #d4ebff;}#sk-container-id-6 input.sk-hidden--visually {border: 0;clip: rect(1px 1px 1px 1px);clip: rect(1px, 1px, 1px, 1px);height: 1px;margin: -1px;overflow: hidden;padding: 0;position: absolute;width: 1px;}#sk-container-id-6 div.sk-estimator {font-family: monospace;background-color: #f0f8ff;border: 1px dotted black;border-radius: 0.25em;box-sizing: border-box;margin-bottom: 0.5em;}#sk-container-id-6 div.sk-estimator:hover {background-color: #d4ebff;}#sk-container-id-6 div.sk-parallel-item::after {content: \"\";width: 100%;border-bottom: 1px solid gray;flex-grow: 1;}#sk-container-id-6 div.sk-label:hover label.sk-toggleable__label {background-color: #d4ebff;}#sk-container-id-6 div.sk-serial::before {content: \"\";position: absolute;border-left: 1px solid gray;box-sizing: border-box;top: 0;bottom: 0;left: 50%;z-index: 0;}#sk-container-id-6 div.sk-serial {display: flex;flex-direction: column;align-items: center;background-color: white;padding-right: 0.2em;padding-left: 0.2em;position: relative;}#sk-container-id-6 div.sk-item {position: relative;z-index: 1;}#sk-container-id-6 div.sk-parallel {display: flex;align-items: stretch;justify-content: center;background-color: white;position: relative;}#sk-container-id-6 div.sk-item::before, #sk-container-id-6 div.sk-parallel-item::before {content: \"\";position: absolute;border-left: 1px solid gray;box-sizing: border-box;top: 0;bottom: 0;left: 50%;z-index: -1;}#sk-container-id-6 div.sk-parallel-item {display: flex;flex-direction: column;z-index: 1;position: relative;background-color: white;}#sk-container-id-6 div.sk-parallel-item:first-child::after {align-self: flex-end;width: 50%;}#sk-container-id-6 div.sk-parallel-item:last-child::after {align-self: flex-start;width: 50%;}#sk-container-id-6 div.sk-parallel-item:only-child::after {width: 0;}#sk-container-id-6 div.sk-dashed-wrapped {border: 1px dashed gray;margin: 0 0.4em 0.5em 0.4em;box-sizing: border-box;padding-bottom: 0.4em;background-color: white;}#sk-container-id-6 div.sk-label label {font-family: monospace;font-weight: bold;display: inline-block;line-height: 1.2em;}#sk-container-id-6 div.sk-label-container {text-align: center;}#sk-container-id-6 div.sk-container {/* jupyter's `normalize.less` sets `[hidden] { display: none; }` but bootstrap.min.css set `[hidden] { display: none !important; }` so we also need the `!important` here to be able to override the default hidden behavior on the sphinx rendered scikit-learn.org. See: https://github.com/scikit-learn/scikit-learn/issues/21755 */display: inline-block !important;position: relative;}#sk-container-id-6 div.sk-text-repr-fallback {display: none;}</style><div id=\"sk-container-id-6\" class=\"sk-top-container\"><div class=\"sk-text-repr-fallback\"><pre>LinearRegression()</pre><b>In a Jupyter environment, please rerun this cell to show the HTML representation or trust the notebook. <br />On GitHub, the HTML representation is unable to render, please try loading this page with nbviewer.org.</b></div><div class=\"sk-container\" hidden><div class=\"sk-item\"><div class=\"sk-estimator sk-toggleable\"><input class=\"sk-toggleable__control sk-hidden--visually\" id=\"sk-estimator-id-6\" type=\"checkbox\" checked><label for=\"sk-estimator-id-6\" class=\"sk-toggleable__label sk-toggleable__label-arrow\">LinearRegression</label><div class=\"sk-toggleable__content\"><pre>LinearRegression()</pre></div></div></div></div></div>"
      ],
      "text/plain": [
       "LinearRegression()"
      ]
     },
     "execution_count": 202,
     "metadata": {},
     "output_type": "execute_result"
    }
   ],
   "source": [
    "reg = linear_model.LinearRegression()\n",
    "reg.fit(collated[['DISTANCE_LOCATION','AGE','NO_PERSONS','SPEED_ZONE','DAY_OF_WEEK','LIGHT_CONDITION']],collated.NO_PERSONS_KILLED)"
   ]
  },
  {
   "cell_type": "code",
   "execution_count": 203,
   "id": "de3d0645-796f-4ebf-9fcd-0e248327f2ea",
   "metadata": {},
   "outputs": [
    {
     "name": "stdout",
     "output_type": "stream",
     "text": [
      "{}\n",
      "y = -0.012391842066905166 + 2.2717819165578336e-05 * x1 + 0.0002867999524392014 * x2 + 0.004504001719096644 * x3 + -1.7279504349016203e-05 * x4 + 0.000604762714639547 * x5 + 0.004106168035661047 * x6\n",
      "╒═══════════════════╤═══════════════╕\n",
      "│ Factor            │   Coeffecient │\n",
      "╞═══════════════════╪═══════════════╡\n",
      "│ DISTANCE_LOCATION │   2.27178e-05 │\n",
      "├───────────────────┼───────────────┤\n",
      "│ AGE               │   0.0002868   │\n",
      "├───────────────────┼───────────────┤\n",
      "│ NO_PERSONS        │   0.004504    │\n",
      "├───────────────────┼───────────────┤\n",
      "│ SPEED_ZONE        │  -1.72795e-05 │\n",
      "├───────────────────┼───────────────┤\n",
      "│ DAY_OF_WEEK       │   0.000604763 │\n",
      "├───────────────────┼───────────────┤\n",
      "│ LIGHT_CONDITION   │   0.00410617  │\n",
      "╘═══════════════════╧═══════════════╛\n"
     ]
    }
   ],
   "source": [
    "coeffs = reg.coef_\n",
    "integer_coeffs = []\n",
    "dic = {}\n",
    "print(dic)\n",
    "coloumn_names = collated.columns\n",
    "coloumn_names = list(coloumn_names)\n",
    "removed_value = coloumn_names.remove('NO_PERSONS_KILLED')\n",
    "for i in range(len(coeffs)):\n",
    "    dic[coloumn_names[i]] = coeffs[i]\n",
    "intercept = reg.intercept_\n",
    "equation_parts = [f\"{coeffs[i]} * x{i+1}\" for i in range(len(coeffs))]\n",
    "equation = f\"y = {intercept} + \" + \" + \".join(equation_parts)\n",
    "print(equation)\n",
    "\n",
    "\n",
    "table_data = [[key, value] for key, value in dic.items()]\n",
    "\n",
    "#Display the table\n",
    "table = tabulate(table_data, headers=[\"Factor\", \"Coeffecient\"], tablefmt=\"fancy_grid\")\n",
    "print(table)\n"
   ]
  },
  {
   "cell_type": "code",
   "execution_count": 198,
   "id": "afbfbbb7-f30f-43ee-992f-4a9a914ac317",
   "metadata": {},
   "outputs": [
    {
     "name": "stdin",
     "output_type": "stream",
     "text": [
      "How far away was the crash from location (m):  20\n",
      "How old was driver of car:  49\n",
      "How many people involved in the crash:  5\n",
      "What was the speed limit (km/h):  20\n",
      "What was the day of the week - enter a number (1-7):  6\n",
      "What was the lighting conditions:     4\n"
     ]
    },
    {
     "name": "stdout",
     "output_type": "stream",
     "text": [
      "Based on your inputs, the number of people predicted to die from this accident is [0.04434338]\n"
     ]
    },
    {
     "name": "stderr",
     "output_type": "stream",
     "text": [
      "/Users/ashwinrao/anaconda3/lib/python3.10/site-packages/sklearn/base.py:420: UserWarning: X does not have valid feature names, but LinearRegression was fitted with feature names\n",
      "  warnings.warn(\n"
     ]
    }
   ],
   "source": [
    "#User Inputs To Create A Prediction of The possibilty of death in a crash\n",
    "\n",
    "distance_from_location = int(input(\"How far away was the crash from location (m): \"))\n",
    "Age = int(input(\"How old was driver of car: \"))\n",
    "No_person = int(input(\"How many people involved in the crash: \"))\n",
    "speed_limit = int(input(\"What was the speed limit (km/h): \"))\n",
    "day_of_week = int(input(\"What was the day of the week - enter a number (1-7): \"))\n",
    "lighting_condition = int(input(\"What was the lighting conditions:    \"))\n",
    "\n",
    "prediction = reg.predict([[distance_from_location,Age,No_person,speed_limit,day_of_week,lighting_condition]])\n",
    "\n",
    "print(f\"Based on your inputs, the number of people predicted to die from this accident is {prediction}\")"
   ]
  },
  {
   "cell_type": "code",
   "execution_count": null,
   "id": "9a661481-cd02-4e49-b582-790cf947c490",
   "metadata": {},
   "outputs": [],
   "source": []
  },
  {
   "cell_type": "code",
   "execution_count": null,
   "id": "fe5beaa7-68cb-4b2e-8105-449e4616e55a",
   "metadata": {},
   "outputs": [],
   "source": []
  },
  {
   "cell_type": "code",
   "execution_count": null,
   "id": "1f05983d-2aaf-4cba-89a8-75c3e8d22ddf",
   "metadata": {},
   "outputs": [],
   "source": []
  },
  {
   "cell_type": "code",
   "execution_count": null,
   "id": "ab30bc78-e4d0-4b66-87ed-172b22ed8a8a",
   "metadata": {},
   "outputs": [],
   "source": []
  }
 ],
 "metadata": {
  "kernelspec": {
   "display_name": "Python 3 (ipykernel)",
   "language": "python",
   "name": "python3"
  },
  "language_info": {
   "codemirror_mode": {
    "name": "ipython",
    "version": 3
   },
   "file_extension": ".py",
   "mimetype": "text/x-python",
   "name": "python",
   "nbconvert_exporter": "python",
   "pygments_lexer": "ipython3",
   "version": "3.10.9"
  }
 },
 "nbformat": 4,
 "nbformat_minor": 5
}
